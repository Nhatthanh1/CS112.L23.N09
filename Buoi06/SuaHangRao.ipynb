{
  "nbformat": 4,
  "nbformat_minor": 0,
  "metadata": {
    "colab": {
      "name": "SuaHangRao.ipynb",
      "provenance": []
    },
    "kernelspec": {
      "name": "python3",
      "display_name": "Python 3"
    },
    "language_info": {
      "name": "python"
    }
  },
  "cells": [
    {
      "cell_type": "markdown",
      "metadata": {
        "id": "5pCEJRkhInwn"
      },
      "source": [
        "# **SỬA HÀNG RÀO**\n",
        "\n",
        "\n",
        "Sau khi dựng xong nhà kho chứa cỏ, dì Poly quyết định dùng m tấm gỗ còn thừa gia cố hàng rào của vườn rau ngăn không cho gà vào phá và giao công việc này cho Tôm và Hấc Phin làm. Nhiệm vụ của hai cậu bé tội nghiệp là đóng thêm vào các tấm ván hàng rào để có hàng rào mới càng cao càng tốt. Nhìn vẽ mặt buồn thiu và lóng ngóng của 2 đứa Jim quyết định sẽ làm giúp. Hàng rào được ghép từ n tấm gỗ cùng độ rộng như nhau và bằng độ rộng của các tấm gỗ còn thừa, tấm thứ i có độ cao ai, i = 1 ÷ n. Tôm và Hấc Phin chỉ phải xếp các tấm còn thừa lên xe ba gác để Jim kéo đi. Các tấm gỗ được xếp thành một chồng, tính từ trên xuống tấm thứ j có độ dài bj, j = 1 ÷ m. Jim kéo xe ba gác đi dọc theo hàng rào. Đến một tấm nào đó muốn gia cố Jim sẽ lấy một tấm gỗ từ xe đóng tiếp lên tấm gỗ trên hàng rào và độ cao mới của tấm này trên hàng rào sẽ là tổng độ cao của tấm cũ và tấm mới đóng thêm. Jim chỉ đóng thêm một tấm mới vào tấm cũ vì muốn đảm bảo độ chắc chắn của hàng rào. Jim có thể lấy tấm trên cùng ở xe hoặc vất ra khỏi xe một số tấm cho đến khi gặp tấm vừa ý. Người ta vẫn nói “Khôn đâu tới trẻ, khỏe đâu tới già!”  Jim đã đứng tuổi và không còn sức để xếp lại các tấm gỗ bị bỏ ra vào xe. Ngoài ra, Jim cũng khá mê tín nên không quay lại lấy những tấm đã loại.\n",
        "\n",
        "Hãy xác định độ cao lớn nhất có thể đạt được của hàng rào sau khi gia cố. Độ cao của hàng rào được tính bằng độ cao tấm gỗ thấp nhất trên hàng rào.\n",
        "\n",
        "**Dữ liệu:** Vào từ thiết bị nhập chuẩn:\n",
        "\n",
        "- Dòng đầu tiên chứa số nguyên n $(1 ≤ n ≤  10^5)$,\n",
        "- Dòng thứ 2 chứa n số nguyên a1, a2, . . ., an $(1 ≤ ai ≤ 10^8, i = 1 ÷ n)$,\n",
        "- Dòng thứ 3 chứa số nguyên m  $(1 ≤ m ≤ 10^5)$,\n",
        "- Dòng cuối cùng chứ m số nguyên b1, b2, . . ., bm $(1 ≤ bj ≤ 10^8, j = 1÷ m)$.\n",
        "\n",
        "**Kết quả:** Đưa ra thiết bị xuất chuẩn, dòng đầu tiên chứa 2 số nguyên h và k – độ cao lớn nhất có thể của hàng rào và số tấm gỗ đã được đóng thêm, mỗi dòng trong k dòng tiếp theo chứa 2 số nguyên x và y, trong đó x – tấm gỗ trên hàng rào được đóng cao hơn, y – tấm gỗ được dùng để đóng. Đưa ra phương án có các số hiệu tấm ván được chọn là nhỏ nhất nếu tồn tại nhiều cách đóng khác nhau.\n",
        "\n",
        "**Ví dụ:**\n",
        "\n",
        "|INPUT     | OUTPUT|\n",
        "|:----------- |:-------|\n",
        "| 6         |      5 3       |\n",
        "| 2 5 4 1 7 5|      1 2      |\n",
        "|7|   3 3      |\n",
        "|2 3 1 3 2 4 6    | 4 6  |"
      ]
    },
    {
      "cell_type": "markdown",
      "metadata": {
        "id": "DnL1bZoRI3Re"
      },
      "source": [
        "## **1. Abstraction**\n",
        "Tìm min A lớn nhất sau khi cộng từ phần tử của B "
      ]
    },
    {
      "cell_type": "markdown",
      "metadata": {
        "id": "9-V5pFxXJFyt"
      },
      "source": [
        "## **2.Pattern Recognition**\n",
        "- Giải theo giải thuật greedy (tham lam) và tìm kiếm nhị phân"
      ]
    },
    {
      "cell_type": "markdown",
      "metadata": {
        "id": "UN4slG90JRYQ"
      },
      "source": [
        "## **3. Design**"
      ]
    },
    {
      "cell_type": "markdown",
      "metadata": {
        "id": "p8hHx3CyJrU3"
      },
      "source": [
        "## **4.Code**"
      ]
    },
    {
      "cell_type": "code",
      "metadata": {
        "id": "x1xUXj4KCrt0",
        "colab": {
          "base_uri": "https://localhost:8080/"
        },
        "outputId": "e88a3328-7d2d-41cf-88ff-c81f2f047b93"
      },
      "source": [
        "import statistics as st\n",
        "n=int(input())\n",
        "a = [int(x) for x in input().split()]\n",
        "m=int(input())\n",
        "b = [int(x) for x in input().split()]\n",
        "x = int(st.mean(a)) \n",
        "aver=min(a) + max()\n",
        "j=0\n",
        "d=0\n",
        "def check(num, A, B, n, m):\n",
        "  j = 0\n",
        "  for i in range(n):\n",
        "    if A[i] < num: \n",
        "      temp = False\n",
        "      while j < m:\n",
        "        if A[i] + B[j] >= num:\n",
        "          temp = True\n",
        "          j += 1\n",
        "          break\n",
        "        j += 1\n",
        "      if temp == False:\n",
        "        return False\n",
        "  return True\n",
        "kq=[]\n",
        "tm=True\n",
        "# Code này chưa có tìm kiếm nhị phân \n",
        "while(tm):\n",
        "  if check(aver,a,b,n,m)==True:\n",
        "    for i in range(n):\n",
        "      if a[i]<aver:\n",
        "        while j<m:\n",
        "          if a[i]+b[j]>=aver:\n",
        "            d+=1\n",
        "            j+=1\n",
        "            break\n",
        "          j+=1\n",
        "        kq.append((i + 1, j))\n",
        "    tm=False\n",
        "  else:\n",
        "    aver-=1\n",
        "print(aver,d)\n",
        "for t in kq:\n",
        "  print(t[0],t[1])\n"
      ],
      "execution_count": 25,
      "outputs": [
        {
          "output_type": "stream",
          "text": [
            "6\n",
            "2 5 4 1 7 5\n",
            "7\n",
            "2 3 1 3 2 4 6\n",
            "4 2\n",
            "1 1\n",
            "4 2\n"
          ],
          "name": "stdout"
        }
      ]
    },
    {
      "cell_type": "markdown",
      "metadata": {
        "id": "8KKYdbuXJXl9"
      },
      "source": [
        "## **5. Result wecode:**\n",
        "![image.png](data:image/png;base64,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)"
      ]
    }
  ]
}