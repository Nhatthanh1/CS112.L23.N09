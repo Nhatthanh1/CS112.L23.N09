{
  "nbformat": 4,
  "nbformat_minor": 0,
  "metadata": {
    "colab": {
      "name": "PhanSo.ipynb",
      "provenance": []
    },
    "kernelspec": {
      "name": "python3",
      "display_name": "Python 3"
    },
    "language_info": {
      "name": "python"
    }
  },
  "cells": [
    {
      "cell_type": "markdown",
      "metadata": {
        "id": "UI7vNm0HN6bi"
      },
      "source": [
        "#**Phân Số**\n",
        "Cho 2 phân số đúng và tối giản $\\frac{a}{b} $,$\\frac{c}{d}$   . Mỗi phép biến đổi là tăng a và b lên 1, sau đó giản ước phân số nhận được.\n",
        "\n",
        "Hãy xác định sau bao nhiêu bước biến đổi từ phân số thứ nhất ban đầu nhận được phân số thứ 2 đã cho.\n",
        "\n",
        "Dữ liệu: Vào từ thiết bị nhập chuẩn gồm 4 dòng, mỗi dòng chứa 1 số nguyên $ a, b, c, d, 0 < a < b \\le 10^5, 0 < c < d \\le 10^5,$ a và b nguyên tố cùng nhau, c và d nguyên tố cùng nhau $ \\frac{a}{b} \\ne \\frac{c}{d}$\n",
        "\n",
        "Kết quả: Đưa ra thiết bị xuất chuẩn số 0 nếu không có cách biến đổi hoặc một số nguyên – số lượng phép biến đổi.\n",
        "\n",
        "Ví dụ:\n",
        "\n",
        "|INPUT      | OUTPUT|\n",
        "|:-----------|:-------:|\n",
        "|1 6 2 3    |5      |\n"
      ]
    },
    {
      "cell_type": "markdown",
      "metadata": {
        "id": "R076yATyOQ3G"
      },
      "source": [
        "## **1. Abstraction**"
      ]
    },
    {
      "cell_type": "markdown",
      "metadata": {
        "id": "Y2abyYGIOaXi"
      },
      "source": [
        "## **2.Pattern Recognition**"
      ]
    },
    {
      "cell_type": "markdown",
      "metadata": {
        "id": "CzFTfSupOc6n"
      },
      "source": [
        "## **3. Design**"
      ]
    },
    {
      "cell_type": "markdown",
      "metadata": {
        "id": "cAwyzl0pOisk"
      },
      "source": [
        "## **4.Code**"
      ]
    },
    {
      "cell_type": "code",
      "metadata": {
        "id": "OOzpKx3DO-xk"
      },
      "source": [
        "[a,b,c,d] =list(map(int,input().split()))\n"
      ],
      "execution_count": null,
      "outputs": []
    },
    {
      "cell_type": "markdown",
      "metadata": {
        "id": "h0iubnPtOmc4"
      },
      "source": [
        "## **5. Result wecode:**"
      ]
    }
  ]
}